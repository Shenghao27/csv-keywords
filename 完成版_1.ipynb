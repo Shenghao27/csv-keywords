{
 "cells": [
  {
   "cell_type": "code",
   "execution_count": null,
   "id": "b12a7cbb",
   "metadata": {},
   "outputs": [],
   "source": [
    "# 匯入所需的庫\n",
    "import glob  # 用於查找符合特定模式的文件\n",
    "import os  # 用於操作文件和文件夾路徑\n",
    "import numpy as np  # 用於數值計算\n",
    "import pandas as pd  # 用於處理數據表格\n",
    "import re  # 用於正則表達式操作\n",
    "\n",
    "try:\n",
    "    # 獲取用戶輸入的文件夾路徑\n",
    "    folder_path = input(\"請輸入資料夾路徑：\")\n",
    "    # 使用glob模塊獲取文件夾中所有以.txt結尾的文件的列表\n",
    "    txt_list = glob.glob(os.path.join(folder_path, '*.txt'))\n",
    "\n",
    "    all_list = []\n",
    "\n",
    "    for txt in txt_list:\n",
    "        with open(txt, 'r', encoding='utf-8') as f:\n",
    "            text = f.read()\n",
    "            # 查找文本中是否包含 'CCS通訊異常' 這個字符串\n",
    "            if re.search(r'CCS通訊異常', text):\n",
    "                # 使用正則表達式查找 'CCS通訊異常' 出現的位置\n",
    "                CCS_list = re.finditer(r'CCS通訊異常', text)\n",
    "                for s in CCS_list:\n",
    "                    # span() 方法来獲取每個查找字的起始和结束索引\n",
    "                    Span = s.span()\n",
    "                    # 因為span()的傳回值是tuple，需轉成字串後比較好處理並接字串\n",
    "                    key_1 = str(Span)\n",
    "                    # 把 () 去除，並用 , 做分隔元素\n",
    "                    key_2 = key_1.strip('()').split(',')\n",
    "                    # 取第[0]組元素\n",
    "                    key_3 = int(key_2[0])\n",
    "                    # 根據位置提取時間訊息\n",
    "                    timestamp = text[key_3-29:key_3-9]  # 修改字元位置\n",
    "                    # 提取錯誤消息\n",
    "                    Error_message = text[key_3:].split('\\n')[0] # 拆分成以 \\n 為分隔符的列表，然後選取列表中的第[0]部分\n",
    "                    # 將時間和錯誤消息添加到列表中\n",
    "                    all_list.append([timestamp, Error_message])\n",
    "\n",
    "    # 創建包含時間戳和錯誤消息的數據框\n",
    "    df = pd.DataFrame(all_list, columns=['Timestamp', 'Error_message'])\n",
    "\n",
    "    # 獲取用戶輸入的要保存的 Excel 文件名\n",
    "    output_filename = input(\"請輸入要輸出的 Excel 檔案名稱：\")\n",
    "    output_filename = output_filename + \".xlsx\"\n",
    "    # 將數據框保存為 Excel 文件\n",
    "    df.to_excel(output_filename, encoding='UTF8')\n",
    "\n",
    "    print(\"輸出成功！\")\n",
    "\n",
    "except Exception as e:\n",
    "    print(\"發生錯誤：\", str(e))\n"
   ]
  }
 ],
 "metadata": {
  "kernelspec": {
   "display_name": "Python 3 (ipykernel)",
   "language": "python",
   "name": "python3"
  },
  "language_info": {
   "codemirror_mode": {
    "name": "ipython",
    "version": 3
   },
   "file_extension": ".py",
   "mimetype": "text/x-python",
   "name": "python",
   "nbconvert_exporter": "python",
   "pygments_lexer": "ipython3",
   "version": "3.9.13"
  },
  "toc": {
   "base_numbering": 1,
   "nav_menu": {},
   "number_sections": true,
   "sideBar": true,
   "skip_h1_title": false,
   "title_cell": "Table of Contents",
   "title_sidebar": "Contents",
   "toc_cell": false,
   "toc_position": {},
   "toc_section_display": true,
   "toc_window_display": false
  }
 },
 "nbformat": 4,
 "nbformat_minor": 5
}
